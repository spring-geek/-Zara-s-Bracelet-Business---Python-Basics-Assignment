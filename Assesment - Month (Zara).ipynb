{
 "cells": [
  {
   "cell_type": "markdown",
   "id": "c38a5f9b-2fea-48d6-9d97-c41dd4ad604e",
   "metadata": {},
   "source": [
    "1. \n",
    "Each of the following variable assignments has something wrong. Identify the error and correct it."
   ]
  },
  {
   "cell_type": "code",
   "execution_count": 1,
   "id": "7cdb9863-55c2-4815-ae05-d9493c70f4f8",
   "metadata": {},
   "outputs": [
    {
     "name": "stdout",
     "output_type": "stream",
     "text": [
      "5\n"
     ]
    }
   ],
   "source": [
    "number_1 = 5\n",
    "print (number_1)"
   ]
  },
  {
   "cell_type": "code",
   "execution_count": 2,
   "id": "d23f6ead-d69f-462c-a101-03f22c876dae",
   "metadata": {},
   "outputs": [
    {
     "name": "stdout",
     "output_type": "stream",
     "text": [
      "Ada\n"
     ]
    }
   ],
   "source": [
    "my_name = \"Ada\"\n",
    "print (my_name)"
   ]
  },
  {
   "cell_type": "code",
   "execution_count": 3,
   "id": "0a639611-3a35-43a8-9a9c-ffed0e635b3c",
   "metadata": {},
   "outputs": [
    {
     "name": "stdout",
     "output_type": "stream",
     "text": [
      "10\n"
     ]
    }
   ],
   "source": [
    "Digit = \"10\"\n",
    "print (Digit)\n"
   ]
  },
  {
   "cell_type": "code",
   "execution_count": 4,
   "id": "c0cb19c7-e94f-4255-98c2-064a279d8596",
   "metadata": {},
   "outputs": [
    {
     "name": "stdout",
     "output_type": "stream",
     "text": [
      "300\n"
     ]
    }
   ],
   "source": [
    "total_sum = \"300\"\n",
    "print (total_sum)"
   ]
  },
  {
   "cell_type": "code",
   "execution_count": 5,
   "id": "de3f5049-3411-43c9-9f03-a27363ad3b39",
   "metadata": {},
   "outputs": [
    {
     "name": "stdout",
     "output_type": "stream",
     "text": [
      "25\n"
     ]
    }
   ],
   "source": [
    "age = \"25\"\n",
    "print (age)"
   ]
  },
  {
   "cell_type": "markdown",
   "id": "b9701b00-b5d4-403b-b2b8-015e5a9ca6e8",
   "metadata": {},
   "source": [
    "2. \n",
    "\n",
    "A young entrepreneur named Zara sells handmade beaded bracelets.\n",
    "\n",
    "- She sells each bracelet for ₦750\n",
    "\n",
    "- She made 20 bracelets this week\n",
    "\n",
    "- She spent ₦3,000 on materials\n",
    "\n",
    "- She also spent ₦1,500 on delivery and ₦500 on packaging\n",
    "\n",
    "- She gave a ₦250 discount to one customer\n",
    "\n",
    "- She plans to save 20% of her profit\n",
    "\n",
    "Tasks:\n",
    "\n",
    "a. Create variables to represent all the details above. Use descriptive variable names.\n",
    "b. Calculate:\n",
    "\n",
    "- Zara’s total income\n",
    "\n",
    "- Zara’s total expenses\n",
    "\n",
    "- Her actual profit after the discount\n",
    "\n",
    "- How much she will save from her profit"
   ]
  },
  {
   "cell_type": "code",
   "execution_count": 6,
   "id": "c37f2df8-6045-412b-b243-2c8062696089",
   "metadata": {},
   "outputs": [],
   "source": [
    "# Selling Price of a bracelet (N)\n",
    "Selling_price = 750"
   ]
  },
  {
   "cell_type": "code",
   "execution_count": 7,
   "id": "590c1b67-546c-467d-aa07-fd4634ea6148",
   "metadata": {},
   "outputs": [],
   "source": [
    "# Number of Bracelets made this week \n",
    "Materials_Made = 20"
   ]
  },
  {
   "cell_type": "code",
   "execution_count": 8,
   "id": "c617b3bf-3b0b-4acb-a119-21fe23e1f84d",
   "metadata": {},
   "outputs": [],
   "source": [
    "# Cost of Materials (N)\n",
    "Material_cost = 3000"
   ]
  },
  {
   "cell_type": "code",
   "execution_count": 9,
   "id": "1afd93dd-4f84-4c37-8ac9-cf257365bff0",
   "metadata": {},
   "outputs": [],
   "source": [
    "# Cost of Delivery (N)\n",
    "Delivery_fees = 1500"
   ]
  },
  {
   "cell_type": "code",
   "execution_count": 10,
   "id": "42c72734-cb58-490a-b7f5-127f269183ae",
   "metadata": {},
   "outputs": [],
   "source": [
    "# Cost of packaging (500)\n",
    "Packaging_cost = 500"
   ]
  },
  {
   "cell_type": "code",
   "execution_count": 11,
   "id": "1d149da7-291a-4cf4-800d-c5044b475860",
   "metadata": {},
   "outputs": [],
   "source": [
    "# Discount given to one customer (N)\n",
    "Discount_given = 250"
   ]
  },
  {
   "cell_type": "code",
   "execution_count": 12,
   "id": "279ae661-81da-4a08-a3c8-38fe9935a602",
   "metadata": {},
   "outputs": [],
   "source": [
    "\n",
    "# Target Savings of 20% of her profit\n",
    "Savings_percentage = 0.2"
   ]
  },
  {
   "cell_type": "code",
   "execution_count": 13,
   "id": "bb59f922-9f77-4189-870d-ffc79f66e1c3",
   "metadata": {},
   "outputs": [
    {
     "name": "stdout",
     "output_type": "stream",
     "text": [
      "15000\n"
     ]
    }
   ],
   "source": [
    "#Zara’s total income\n",
    "print (Selling_price * Materials_Made)"
   ]
  },
  {
   "cell_type": "code",
   "execution_count": 25,
   "id": "231558da-3707-4db1-bf2b-3203a9cb74a1",
   "metadata": {},
   "outputs": [
    {
     "name": "stdout",
     "output_type": "stream",
     "text": [
      "Total_Income : # 15000\n"
     ]
    }
   ],
   "source": [
    "Total_Income = 15000\n",
    "print (\"Total_Income : #\", Total_Income)"
   ]
  },
  {
   "cell_type": "code",
   "execution_count": 15,
   "id": "ca1a22a9-aea0-4564-a11e-fa8f44bb5bb7",
   "metadata": {},
   "outputs": [
    {
     "name": "stdout",
     "output_type": "stream",
     "text": [
      "5000\n"
     ]
    }
   ],
   "source": [
    "# Zara’s total expenses\n",
    "print (Material_cost + Delivery_fees + Packaging_cost )"
   ]
  },
  {
   "cell_type": "code",
   "execution_count": 26,
   "id": "9e3018ea-a21a-4705-beb2-da8929fe3bb9",
   "metadata": {},
   "outputs": [
    {
     "name": "stdout",
     "output_type": "stream",
     "text": [
      "Total_Expenses : # 5000\n"
     ]
    }
   ],
   "source": [
    "Total_Expenses = 5000\n",
    "print (\"Total_Expenses : #\", Total_Expenses)"
   ]
  },
  {
   "cell_type": "code",
   "execution_count": 18,
   "id": "0bbc6ccc-2cdb-4bdd-be8b-ef7ea834886e",
   "metadata": {},
   "outputs": [
    {
     "name": "stdout",
     "output_type": "stream",
     "text": [
      "9750\n"
     ]
    }
   ],
   "source": [
    "# Her actual profit after the discount\n",
    "print ((Total_Income - Total_Expenses) - Discount_given )"
   ]
  },
  {
   "cell_type": "code",
   "execution_count": 27,
   "id": "194319df-5166-4692-9ffd-2d205fe009ec",
   "metadata": {},
   "outputs": [
    {
     "name": "stdout",
     "output_type": "stream",
     "text": [
      "Actual_profit : # 9750\n"
     ]
    }
   ],
   "source": [
    "Actual_profit = 9750\n",
    "print (\"Actual_profit : #\", Actual_profit)"
   ]
  },
  {
   "cell_type": "code",
   "execution_count": 20,
   "id": "49635845-ee05-4d93-9084-de8de5a7a263",
   "metadata": {},
   "outputs": [
    {
     "name": "stdout",
     "output_type": "stream",
     "text": [
      "1950.0\n"
     ]
    }
   ],
   "source": [
    "# How much she will save from her profit\n",
    "print (Actual_profit * 0.2)"
   ]
  },
  {
   "cell_type": "code",
   "execution_count": 28,
   "id": "e43ad84c-816a-4186-8151-ec081c6a5387",
   "metadata": {},
   "outputs": [
    {
     "name": "stdout",
     "output_type": "stream",
     "text": [
      "Saved_Amount : # 1950\n"
     ]
    }
   ],
   "source": [
    "Saved_Amount = 1950\n",
    "print (\"Saved_Amount : #\", Saved_Amount)"
   ]
  },
  {
   "cell_type": "markdown",
   "id": "0a639dd8-92df-42aa-9e2f-5370753a38a6",
   "metadata": {},
   "source": [
    "3. Each of the following lines has a problem related to how strings work in Python. Identify and fix the problem."
   ]
  },
  {
   "cell_type": "code",
   "execution_count": 34,
   "id": "a131f824-d98f-4c73-8759-b1898ee87913",
   "metadata": {},
   "outputs": [
    {
     "name": "stdout",
     "output_type": "stream",
     "text": [
      "Hello, my name is John and I’m learning Python.\n"
     ]
    }
   ],
   "source": [
    "greeting = \"Hello, my name is John and I’m learning Python.\"\n",
    "print (greeting)"
   ]
  },
  {
   "cell_type": "code",
   "execution_count": 32,
   "id": "ce0114ca-4a5b-4cab-86d6-8556a6368e90",
   "metadata": {},
   "outputs": [
    {
     "name": "stdout",
     "output_type": "stream",
     "text": [
      "She said, \"Python is easy to learn.\" \n"
     ]
    }
   ],
   "source": [
    "quote = 'She said, \"Python is easy to learn.\" '\n",
    "print (quote)"
   ]
  },
  {
   "cell_type": "code",
   "execution_count": 35,
   "id": "1c1a732c-2a36-461a-9feb-e4f579ebb944",
   "metadata": {},
   "outputs": [
    {
     "name": "stdout",
     "output_type": "stream",
     "text": [
      "Hello Musa\n"
     ]
    }
   ],
   "source": [
    "name = 'Musa'\n",
    "print(\"Hello \" + name)"
   ]
  },
  {
   "cell_type": "code",
   "execution_count": 38,
   "id": "08e96406-4b45-4528-b37a-09c99cf97727",
   "metadata": {},
   "outputs": [
    {
     "name": "stdout",
     "output_type": "stream",
     "text": [
      "Today was a good day, I learned about variables.\n"
     ]
    }
   ],
   "source": [
    "story = \"Today was a good day, I learned about variables.\"\n",
    "print (story)"
   ]
  },
  {
   "cell_type": "code",
   "execution_count": 40,
   "id": "8f721909-c3a8-46b1-a187-cf3b4a4045a8",
   "metadata": {},
   "outputs": [
    {
     "name": "stdout",
     "output_type": "stream",
     "text": [
      "Introduction To Python\n"
     ]
    }
   ],
   "source": [
    "title = \"introduction to python\"\n",
    "print(title.title())\n",
    "# Expected output: Introduction To Python"
   ]
  },
  {
   "cell_type": "markdown",
   "id": "b744bd55-09d4-4d8c-972f-91721f937ed0",
   "metadata": {},
   "source": [
    "4. Section D: Lists\n",
    "Create a list of five items Zara might need to buy to continue her bracelet business (e.g., beads, strings, glue...).\n",
    "\n",
    "Write Python code to:\n",
    "a. Print the first and last item in the list\n",
    "b. Add a new item to the list\n",
    "c. Remove one item from the list\n",
    "d. Print the number of items in the list"
   ]
  },
  {
   "cell_type": "code",
   "execution_count": 42,
   "id": "a5b989a1-366b-4f72-9273-1cefe24ba672",
   "metadata": {},
   "outputs": [
    {
     "name": "stdout",
     "output_type": "stream",
     "text": [
      "['Beads', 'Strings', 'Glue', 'Scissors']\n"
     ]
    }
   ],
   "source": [
    "# Zara's new list\n",
    "Zara_list = [\"Beads\", \"Strings\", \"Glue\", \"Scissors\"]\n",
    "print (Zara_list)"
   ]
  },
  {
   "cell_type": "code",
   "execution_count": 45,
   "id": "305e1c69-b698-4575-a129-dc46338930ab",
   "metadata": {},
   "outputs": [
    {
     "name": "stdout",
     "output_type": "stream",
     "text": [
      "First_item: Beads\n"
     ]
    }
   ],
   "source": [
    "# a. Print the first and last item in the list\n",
    "print (\"First_item:\", Zara_list [0] )"
   ]
  },
  {
   "cell_type": "code",
   "execution_count": 46,
   "id": "fcf856e8-0407-4953-bcbf-f7f81bf90c04",
   "metadata": {},
   "outputs": [
    {
     "name": "stdout",
     "output_type": "stream",
     "text": [
      "Last_item: Scissors\n"
     ]
    }
   ],
   "source": [
    "# a. Print the first and last item in the list\n",
    "print (\"Last_item:\", Zara_list [-1] )"
   ]
  },
  {
   "cell_type": "code",
   "execution_count": 48,
   "id": "c34d5307-adcc-40a4-bdcc-ea4cf16ee80a",
   "metadata": {},
   "outputs": [
    {
     "name": "stdout",
     "output_type": "stream",
     "text": [
      "['Beads', 'Strings', 'Glue', 'Scissors', 'Needle']\n"
     ]
    }
   ],
   "source": [
    "#  b. Add a new item to the\n",
    "Zara_list.append (\"Needle\")\n",
    "print (Zara_list)"
   ]
  },
  {
   "cell_type": "code",
   "execution_count": 50,
   "id": "9543f2f0-6fe8-405c-bf76-8baf59e9dba6",
   "metadata": {},
   "outputs": [
    {
     "name": "stdout",
     "output_type": "stream",
     "text": [
      "['Beads', 'Glue', 'Scissors', 'Needle']\n"
     ]
    }
   ],
   "source": [
    "# c. Remove one item from the list\n",
    "Zara_list.remove (\"Strings\")\n",
    "print (Zara_list)"
   ]
  },
  {
   "cell_type": "code",
   "execution_count": 51,
   "id": "d62f8358-8b64-4b1b-9553-7c6dd306d6fa",
   "metadata": {},
   "outputs": [
    {
     "data": {
      "text/plain": [
       "4"
      ]
     },
     "execution_count": 51,
     "metadata": {},
     "output_type": "execute_result"
    }
   ],
   "source": [
    "# d. Print the number of items in the list\n",
    "len (Zara_list)"
   ]
  },
  {
   "cell_type": "code",
   "execution_count": null,
   "id": "87354220-4182-419e-bcc1-b7721ab8e176",
   "metadata": {},
   "outputs": [],
   "source": []
  }
 ],
 "metadata": {
  "kernelspec": {
   "display_name": "Python [conda env:base] *",
   "language": "python",
   "name": "conda-base-py"
  },
  "language_info": {
   "codemirror_mode": {
    "name": "ipython",
    "version": 3
   },
   "file_extension": ".py",
   "mimetype": "text/x-python",
   "name": "python",
   "nbconvert_exporter": "python",
   "pygments_lexer": "ipython3",
   "version": "3.12.7"
  }
 },
 "nbformat": 4,
 "nbformat_minor": 5
}
